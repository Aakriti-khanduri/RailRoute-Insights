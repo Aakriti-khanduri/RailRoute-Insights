{
 "cells": [
  {
   "cell_type": "code",
   "execution_count": 1,
   "id": "5920a356-7435-452d-b769-82167115456b",
   "metadata": {},
   "outputs": [
    {
     "name": "stdout",
     "output_type": "stream",
     "text": [
      "Found 7338 entries\n"
     ]
    }
   ],
   "source": [
    "from selenium import webdriver\n",
    "from selenium.webdriver.chrome.service import Service\n",
    "from selenium.webdriver.chrome.options import Options\n",
    "from selenium.webdriver.common.by import By\n",
    "from selenium.webdriver.support.ui import WebDriverWait\n",
    "from selenium.webdriver.support import expected_conditions as EC\n",
    "import time\n",
    "\n",
    "path = '/usr/local/bin/chromedriver'\n",
    "website = 'https://indiarailinfo.com/trains/longestroutes'\n",
    "service = Service(executable_path=path)\n",
    "options = Options()\n",
    "driver = webdriver.Chrome(service=service, options=options)\n",
    "driver.get(website)\n",
    "\n",
    "# Keep clicking \"Next\" until no more pages\n",
    "while True:\n",
    "    try:\n",
    "        next_button = WebDriverWait(driver, 5).until(\n",
    "            EC.element_to_be_clickable((By.XPATH, '//button[@class=\"nextbtn\"]'))\n",
    "        )\n",
    "        next_button.click()\n",
    "        time.sleep(1)  # wait for data to load\n",
    "    except:\n",
    "        break\n",
    "\n",
    "from bs4 import BeautifulSoup\n",
    "import pandas as pd\n",
    "\n",
    "# Step 1: Get updated HTML from Selenium\n",
    "html = driver.page_source\n",
    "soup = BeautifulSoup(html, 'html.parser')\n",
    "\n",
    "# Step 2: Locate the container/table\n",
    "table = soup.find('div', class_=\"srhres newbg inline alt\")\n",
    "\n",
    "# Step 3: Extract column titles (assuming they are in the 3rd div)\n",
    "header_div = table.find_all('div')[2]\n",
    "title = [t.text.strip() for t in header_div.find_all('div')]\n",
    "print(\"Column titles:\", title)\n",
    "\n",
    "# Step 4: Create DataFrame with those column names\n",
    "df = pd.DataFrame(columns=title)\n",
    "\n",
    "# Step 5: Extract rows of data (from the 5th div onward)\n",
    "rows = table.find_all('div')[4:]\n",
    "for row in rows:\n",
    "    row_data = row.find_all('div')\n",
    "    individual_row_data = [data.text.strip() for data in row_data]\n",
    "    \n",
    "    # Only add rows that have actual data\n",
    "    if individual_row_data and any(item != '' for item in individual_row_data):\n",
    "        if len(individual_row_data) == len(title):  # Ensure column count matches\n",
    "            df.loc[len(df)] = individual_row_data\n",
    "        else:\n",
    "            print(\"Skipping row due to column mismatch:\", individual_row_data)\n",
    "\n",
    "# Step 6: Show the final DataFrame\n",
    "df\n"
   ]
  },
  {
   "cell_type": "code",
   "execution_count": 13,
   "id": "cc315b71-eb77-4169-ab36-b6fb6c5d157c",
   "metadata": {},
   "outputs": [],
   "source": [
    "# converting to the csv \n",
    "df.to_csv(r'/Users/apple/Downloads/train_route_2.csv',index=False)"
   ]
  }
 ],
 "metadata": {
  "kernelspec": {
   "display_name": "Python [conda env:base] *",
   "language": "python",
   "name": "conda-base-py"
  },
  "language_info": {
   "codemirror_mode": {
    "name": "ipython",
    "version": 3
   },
   "file_extension": ".py",
   "mimetype": "text/x-python",
   "name": "python",
   "nbconvert_exporter": "python",
   "pygments_lexer": "ipython3",
   "version": "3.12.7"
  }
 },
 "nbformat": 4,
 "nbformat_minor": 5
}
